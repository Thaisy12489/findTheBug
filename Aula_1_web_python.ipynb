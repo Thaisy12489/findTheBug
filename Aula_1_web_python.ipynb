{
  "nbformat": 4,
  "nbformat_minor": 0,
  "metadata": {
    "colab": {
      "provenance": [],
      "authorship_tag": "ABX9TyMzd3En9Ds3GOWh6y2co4h8",
      "include_colab_link": true
    },
    "kernelspec": {
      "name": "python3",
      "display_name": "Python 3"
    },
    "language_info": {
      "name": "python"
    }
  },
  "cells": [
    {
      "cell_type": "markdown",
      "metadata": {
        "id": "view-in-github",
        "colab_type": "text"
      },
      "source": [
        "<a href=\"https://colab.research.google.com/github/Thaisy12489/findTheBug/blob/main/Aula_1_web_python.ipynb\" target=\"_parent\"><img src=\"https://colab.research.google.com/assets/colab-badge.svg\" alt=\"Open In Colab\"/></a>"
      ]
    },
    {
      "cell_type": "code",
      "execution_count": 7,
      "metadata": {
        "colab": {
          "base_uri": "https://localhost:8080/"
        },
        "id": "cUZClR22HURl",
        "outputId": "a3b4226b-b3c8-4a5d-be07-73698b8daf30"
      },
      "outputs": [
        {
          "output_type": "stream",
          "name": "stdout",
          "text": [
            "digite o primeiro valor1\n",
            "digite o primeiro valor1\n",
            "digite o primeiro valor1\n",
            "3\n"
          ]
        }
      ],
      "source": [
        "a=int (input(\"digite o primeiro valor\"))\n",
        "b=int (input(\"digite o primeiro valor\"))\n",
        "c=int (input(\"digite o primeiro valor\"))\n",
        "soma= a+b+c\n",
        "print(soma)"
      ]
    },
    {
      "cell_type": "code",
      "source": [
        "t1= int (input(\"primeiro valor \"))\n",
        "t2= int (input(\"segundo valor \"))\n",
        "t3= int (input(\"terceiro valor \"))\n",
        "\n",
        "if (t1!=0):\n",
        "  print (t1/t2)\n",
        "else:\n",
        "  print (\"nao\")"
      ],
      "metadata": {
        "colab": {
          "base_uri": "https://localhost:8080/"
        },
        "id": "UBqKgaDULlaY",
        "outputId": "c838ad38-723e-42bb-d3f9-9c2e22f07427"
      },
      "execution_count": 14,
      "outputs": [
        {
          "output_type": "stream",
          "name": "stdout",
          "text": [
            "primeiro valor 2\n",
            "segundo valor 3\n",
            "terceiro valor 4\n",
            "0.6666666666666666\n"
          ]
        }
      ]
    },
    {
      "cell_type": "code",
      "source": [
        "menu = int (input (\"Se desejar realizar a operação digite 1   \"))\n",
        "\n",
        "while (menu==1):\n",
        "\n",
        "  a= int (input (\"digite o 1º valor  \"))\n",
        "  b= int (input (\"digite o 2º valor  \"))\n",
        "  c= int (input (\"digite o 3º valor  \"))\n",
        "\n",
        "  soma = a+b\n",
        "  mult= b*c\n",
        "\n",
        "  print (soma*mult)\n",
        "\n",
        "  break"
      ],
      "metadata": {
        "colab": {
          "base_uri": "https://localhost:8080/"
        },
        "id": "r8j6azxYOqBg",
        "outputId": "dcb3fa3d-83f9-4dfd-8b34-d16801ce0425"
      },
      "execution_count": 29,
      "outputs": [
        {
          "name": "stdout",
          "output_type": "stream",
          "text": [
            "Se desejar realizar a operação digite 1   6\n"
          ]
        }
      ]
    },
    {
      "cell_type": "code",
      "source": [
        "v1=0\n",
        "v2=2\n",
        "\n",
        "while (v1==0):\n",
        "  print(\"digite novamente o valor \")\n",
        "  v1= int (input (\"digite o valor\"))\n",
        "  print (v1)"
      ],
      "metadata": {
        "colab": {
          "base_uri": "https://localhost:8080/"
        },
        "id": "jDDBbsHvQG_T",
        "outputId": "ed83358b-f7bc-42a8-95ab-0151c2fd9af3"
      },
      "execution_count": 17,
      "outputs": [
        {
          "output_type": "stream",
          "name": "stdout",
          "text": [
            "digite novamente o valor \n",
            "digite o valor4\n",
            "4\n"
          ]
        }
      ]
    },
    {
      "cell_type": "code",
      "source": [
        "a= int (input (\"Qual o valor que deseja sacar? \"))\n",
        "\n",
        "while (valor!0)\n",
        "valor= a%100\n",
        "\n",
        "print"
      ],
      "metadata": {
        "colab": {
          "base_uri": "https://localhost:8080/"
        },
        "id": "iwL8y0TVaUjB",
        "outputId": "91009707-a818-4712-d685-aeaa7646da05"
      },
      "execution_count": 30,
      "outputs": [
        {
          "name": "stdout",
          "output_type": "stream",
          "text": [
            "Qual o valor que deseja sacar? 297\n"
          ]
        }
      ]
    }
  ]
}