{
  "nbformat": 4,
  "nbformat_minor": 0,
  "metadata": {
    "colab": {
      "provenance": [],
      "authorship_tag": "ABX9TyMMt+sPc3mw0urIgudMobQ/",
      "include_colab_link": true
    },
    "kernelspec": {
      "name": "python3",
      "display_name": "Python 3"
    },
    "language_info": {
      "name": "python"
    }
  },
  "cells": [
    {
      "cell_type": "markdown",
      "metadata": {
        "id": "view-in-github",
        "colab_type": "text"
      },
      "source": [
        "<a href=\"https://colab.research.google.com/github/Thaisy12489/findTheBug/blob/main/Aula_CN_07_08.ipynb\" target=\"_parent\"><img src=\"https://colab.research.google.com/assets/colab-badge.svg\" alt=\"Open In Colab\"/></a>"
      ]
    },
    {
      "cell_type": "code",
      "execution_count": 53,
      "metadata": {
        "id": "Tgn1oQfIdPKP"
      },
      "outputs": [],
      "source": [
        "import numpy as np\n",
        "\n",
        "#f=lambda t: np.exp(t)*np.cos(t)\n",
        "\n",
        "x= np.array([-1,0,2,3], float)\n",
        "#np.round(f(x),4)"
      ]
    },
    {
      "cell_type": "code",
      "source": [
        "\n",
        "f= np.array([  0.1988,   1.    ,  -3.0749, -19.8845], )\n",
        "n=len(x)\n",
        "\n",
        "X= np.zeros((n,n))\n",
        "X"
      ],
      "metadata": {
        "colab": {
          "base_uri": "https://localhost:8080/"
        },
        "id": "Z1pYtUg_ftwW",
        "outputId": "35776b99-0766-4d5f-cb3c-c906b394ad5f"
      },
      "execution_count": 54,
      "outputs": [
        {
          "output_type": "execute_result",
          "data": {
            "text/plain": [
              "array([[0., 0., 0., 0.],\n",
              "       [0., 0., 0., 0.],\n",
              "       [0., 0., 0., 0.],\n",
              "       [0., 0., 0., 0.]])"
            ]
          },
          "metadata": {},
          "execution_count": 54
        }
      ]
    },
    {
      "cell_type": "code",
      "source": [
        "for j in range(n):\n",
        "  X[:,j]= x**j\n",
        "np.round(X,4)"
      ],
      "metadata": {
        "colab": {
          "base_uri": "https://localhost:8080/"
        },
        "id": "ip4GIqeIg3ZB",
        "outputId": "06672321-9975-448c-a000-7c7562ac82e5"
      },
      "execution_count": 55,
      "outputs": [
        {
          "output_type": "execute_result",
          "data": {
            "text/plain": [
              "array([[ 1., -1.,  1., -1.],\n",
              "       [ 1.,  0.,  0.,  0.],\n",
              "       [ 1.,  2.,  4.,  8.],\n",
              "       [ 1.,  3.,  9., 27.]])"
            ]
          },
          "metadata": {},
          "execution_count": 55
        }
      ]
    },
    {
      "cell_type": "code",
      "source": [
        "a=np.linalg.inv(X)@f\n",
        "a"
      ],
      "metadata": {
        "colab": {
          "base_uri": "https://localhost:8080/"
        },
        "id": "mRg-PloDjAJ4",
        "outputId": "789bf519-28c3-4124-c616-4ad9178de742"
      },
      "execution_count": 56,
      "outputs": [
        {
          "output_type": "execute_result",
          "data": {
            "text/plain": [
              "array([ 1.        ,  1.8439    ,  0.04824167, -0.99445833])"
            ]
          },
          "metadata": {},
          "execution_count": 56
        }
      ]
    },
    {
      "cell_type": "code",
      "source": [
        "import sympy as sp\n",
        "t= sp.symbols('t')\n",
        "p4= lambda t: sum([a[i]*t**i for i in range(n)])\n",
        "p4(t)"
      ],
      "metadata": {
        "colab": {
          "base_uri": "https://localhost:8080/",
          "height": 39
        },
        "id": "wpcNJYDfkoyO",
        "outputId": "47f72306-b28d-416b-a6c6-0ac8bf07388d"
      },
      "execution_count": 57,
      "outputs": [
        {
          "output_type": "execute_result",
          "data": {
            "text/plain": [
              "-0.994458333333333*t**3 + 0.0482416666666666*t**2 + 1.8439*t + 0.999999999999999"
            ],
            "text/latex": "$\\displaystyle - 0.994458333333333 t^{3} + 0.0482416666666666 t^{2} + 1.8439 t + 0.999999999999999$"
          },
          "metadata": {},
          "execution_count": 57
        }
      ]
    },
    {
      "cell_type": "code",
      "source": [
        "p4(-1)"
      ],
      "metadata": {
        "colab": {
          "base_uri": "https://localhost:8080/"
        },
        "id": "dNXv9g4OmtTx",
        "outputId": "788975a1-f246-4f55-8f36-822aaaf412d2"
      },
      "execution_count": 58,
      "outputs": [
        {
          "output_type": "execute_result",
          "data": {
            "text/plain": [
              "0.19879999999999987"
            ]
          },
          "metadata": {},
          "execution_count": 58
        }
      ]
    },
    {
      "cell_type": "code",
      "source": [
        "import matplotlib.pyplot as plt\n",
        "t= np.linspace(-2,4,500)\n",
        "plt.plot(t,p4(t))\n",
        "plt.scatter(x,p4(x))\n",
        "plt.grid()\n",
        "plt.title('problema de interpolação')\n",
        "plt.xlabel('$x$'); plt.ylabel('$y$')\n",
        "plt.show()"
      ],
      "metadata": {
        "colab": {
          "base_uri": "https://localhost:8080/",
          "height": 472
        },
        "id": "p2Hx47UPowpq",
        "outputId": "55bc4775-6066-4f4d-f62a-14fee4162482"
      },
      "execution_count": 62,
      "outputs": [
        {
          "output_type": "display_data",
          "data": {
            "text/plain": [
              "<Figure size 640x480 with 1 Axes>"
            ],
            "image/png": "[encoded data removed]"
          },
          "metadata": {}
        }
      ]
    }
  ]
}